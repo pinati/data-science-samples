{
 "cells": [
  {
   "cell_type": "code",
   "execution_count": 5,
   "id": "36469621",
   "metadata": {},
   "outputs": [],
   "source": [
    "import math\n",
    "from typing import List, Tuple\n",
    "\n",
    "import numpy as np\n",
    "\n",
    "ALL_BUTTONS: str = \"123456789*0#\""
   ]
  },
  {
   "cell_type": "code",
   "execution_count": 6,
   "id": "0d8c0b37",
   "metadata": {},
   "outputs": [],
   "source": [
    "def compute_laziest_path(telephone_number: str) -> Tuple[float, List[Tuple[str]]]:\n",
    "    # Computing auxilary arrays with all partial minimal distances\n",
    "    left_array, right_array = compute_distance_arrays(telephone_number)\n",
    "    laziest_distance = min(min(left_array[-1, :]), min(right_array[-1, :]))\n",
    "    laziest_path = [(\"*\", \"#\")]\n",
    "    for ix, key in enumerate(telephone_number):\n",
    "        left_array_ix = left_array[ix, :]\n",
    "        right_array_ix = right_array[ix, :]\n",
    "        \n",
    "        if min(left_array_ix) <= min(right_array_ix):\n",
    "            ix_min = np.argmin(left_array_ix)\n",
    "            button_min = ALL_BUTTONS[ix_min]\n",
    "            laziest_path_step_ix = (key, button_min)\n",
    "        else:\n",
    "            ix_min = np.argmin(right_array_ix)\n",
    "            button_min = ALL_BUTTONS[ix_min]\n",
    "            laziest_path_step_ix = (button_min, key)\n",
    "        \n",
    "        laziest_path.append(laziest_path_step_ix)\n",
    "        \n",
    "    return laziest_distance, laziest_path\n",
    "\n",
    "def compute_distance_arrays(telephone_number: str) -> Tuple[np.ndarray, np.ndarray]:\n",
    "    N = len(telephone_number)\n",
    "    K = len(ALL_BUTTONS)\n",
    "\n",
    "    left_array = np.zeros((N, K))\n",
    "    right_array = np.zeros((N, K))\n",
    "\n",
    "    # Filling in first row of left array:\n",
    "    # First addend: distance while moving left finger from initial \"*\" to first key of telephone number\n",
    "    # Second addend: vector of distances while moving right finger from initial \"#\" to all possible buttons\n",
    "    left_array[0, :] = [\n",
    "        euclidean_distance_between_buttons(\"*\", telephone_number[0])\n",
    "        + euclidean_distance_between_buttons(\"#\", button) for button in ALL_BUTTONS\n",
    "    ]\n",
    "    # First row of right array is filled in analogously\n",
    "    right_array[0, :] = [\n",
    "        euclidean_distance_between_buttons(\"#\", telephone_number[0])\n",
    "        + euclidean_distance_between_buttons(\"*\", button) for button in ALL_BUTTONS\n",
    "    ]\n",
    "\n",
    "    # Filling in (1, ..., N) rows of left and right array recursively\"\n",
    "    \n",
    "    # Looping through keys of telephone number\n",
    "    for ix_n in range(N - 1):\n",
    "        # Looping through all possible buttons\n",
    "        for ix_k, button_k in enumerate(ALL_BUTTONS):\n",
    "            left_array_ix_n = left_array[ix_n, :]\n",
    "            right_array_ix_n = right_array[ix_n, :]\n",
    "            \n",
    "            # Array with distances from k-th button to all possible buttons\n",
    "            dist_from_k_array = np.array(\n",
    "                [euclidean_distance_between_buttons(button, button_k) for button in ALL_BUTTONS]\n",
    "            )\n",
    "            # Array with distances from (n + 1)-th key of telephone number to all possible buttons\n",
    "            dist_from_ix_n_array = np.array(\n",
    "                [euclidean_distance_between_buttons(button, telephone_number[ix_n + 1]) for button in ALL_BUTTONS]\n",
    "            )\n",
    "            \n",
    "            # Filling in (n + 1)-th row and k-th column of left array\n",
    "            # Minimum of distances of all paths where n-th key was dialed using left finger\n",
    "            min_left_left = min(\n",
    "                left_array_ix_n\n",
    "                + dist_from_k_array\n",
    "                + euclidean_distance_between_buttons(telephone_number[ix_n], telephone_number[ix_n + 1])\n",
    "            )\n",
    "            # Minimum of distances of all paths where n-th key was dialed using right finger\n",
    "            min_left_right = min(\n",
    "                right_array_ix_n\n",
    "                + dist_from_ix_n_array\n",
    "                + euclidean_distance_between_buttons(telephone_number[ix_n], button_k)\n",
    "            )\n",
    "\n",
    "            min_left = min(min_left_left, min_left_right)\n",
    "\n",
    "            # Filling in (n + 1)-th row and k-th column of right array\n",
    "            min_right_right = min(\n",
    "                right_array_ix_n\n",
    "                + dist_from_k_array\n",
    "                + euclidean_distance_between_buttons(telephone_number[ix_n], telephone_number[ix_n + 1])\n",
    "            )\n",
    "            min_right_left = min(\n",
    "                left_array_ix_n\n",
    "                + dist_from_ix_n_array\n",
    "                + euclidean_distance_between_buttons(telephone_number[ix_n], button_k)\n",
    "            )\n",
    "\n",
    "            min_right = min(min_right_right, min_right_left)\n",
    "\n",
    "            left_array[ix_n + 1, ix_k] = min_left\n",
    "            right_array[ix_n + 1, ix_k] = min_right\n",
    "            \n",
    "    return left_array, right_array\n",
    "\n",
    "def euclidean_distance_between_buttons(button_0: str, button_1: str) -> float:\n",
    "    position_0 = translate_button_to_position(button_0)\n",
    "    position_1 = translate_button_to_position(button_1)\n",
    "    return euclidean_distance_between_positions(position_0, position_1)\n",
    "\n",
    "def translate_button_to_position(button: str) -> Tuple[int, int]:\n",
    "    button_ix = ALL_BUTTONS.index(button)\n",
    "    position = (button_ix // 3, button_ix % 3)\n",
    "    return position\n",
    "    \n",
    "def euclidean_distance_between_positions(position_0: Tuple[int, int], position_1: Tuple[int, int]) -> float:\n",
    "    return math.sqrt((position_0[0] - position_1[0]) ** 2 + (position_0[1] - position_1[1]) ** 2)\n"
   ]
  },
  {
   "cell_type": "code",
   "execution_count": 7,
   "id": "ab466b81",
   "metadata": {},
   "outputs": [
    {
     "data": {
      "text/plain": [
       "(4.0, [('*', '#'), ('1', '#'), ('1', '#'), ('1', '0')])"
      ]
     },
     "execution_count": 7,
     "metadata": {},
     "output_type": "execute_result"
    }
   ],
   "source": [
    "compute_laziest_path(\"110\")"
   ]
  },
  {
   "cell_type": "code",
   "execution_count": 8,
   "id": "2c14b0be",
   "metadata": {},
   "outputs": [
    {
     "data": {
      "text/plain": [
       "(6.650281539872885,\n",
       " [('*', '#'), ('*', '9'), ('4', '9'), ('2', '9'), ('0', '2'), ('0', '1')])"
      ]
     },
     "execution_count": 8,
     "metadata": {},
     "output_type": "execute_result"
    }
   ],
   "source": [
    "compute_laziest_path(\"94201\")"
   ]
  },
  {
   "cell_type": "markdown",
   "id": "ef3982e7",
   "metadata": {},
   "source": [
    "Time complexity of given solution is O(nk^2), space complexity is O(nk)."
   ]
  }
 ],
 "metadata": {
  "kernelspec": {
   "display_name": "Python 3",
   "language": "python",
   "name": "python3"
  },
  "language_info": {
   "codemirror_mode": {
    "name": "ipython",
    "version": 3
   },
   "file_extension": ".py",
   "mimetype": "text/x-python",
   "name": "python",
   "nbconvert_exporter": "python",
   "pygments_lexer": "ipython3",
   "version": "3.9.5"
  }
 },
 "nbformat": 4,
 "nbformat_minor": 5
}
